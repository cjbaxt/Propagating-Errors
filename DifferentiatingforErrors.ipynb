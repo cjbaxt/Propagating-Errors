{
 "cells": [
  {
   "cell_type": "markdown",
   "metadata": {},
   "source": [
    "# Error propagation\n",
    "Script to test the method for propagating errors on the brightness temperature calculation.   \n",
    "Baxter et al 2020 steps: \n",
    "- Calculates the 1 sigma minimum and maximum eclipse depth as (Fp/Fs - Fp/Fs_err) and (Fp/Fs + Fp/Fs_err)  \n",
    "- Calculates the brightness temperatures of these minimum and maximum eclipse depths  \n",
    "- Calculates the upper and lower error on Tb by doing (Tb_err_max - Tb) and (Tb - Tb_err_min)  \n",
    "\n",
    "Garhart et al 2020 - seems to assume RJ approx or just propagates the percentage error.."
   ]
  },
  {
   "cell_type": "code",
   "execution_count": 63,
   "metadata": {},
   "outputs": [],
   "source": [
    "from sympy import Symbol, Derivative,log, diff, sqrt\n",
    "from astropy import units as u\n",
    "from astropy import constants as const\n",
    "import numpy as np"
   ]
  },
  {
   "cell_type": "markdown",
   "metadata": {},
   "source": [
    "## Set up the problem\n",
    "Integrating Equation 1 from Baxter et al to find the errors on brightness temperature"
   ]
  },
  {
   "cell_type": "code",
   "execution_count": 60,
   "metadata": {},
   "outputs": [],
   "source": [
    "# Parameters \"without\" errors \n",
    "h = Symbol('h', constant=True, number=True)\n",
    "c = Symbol('c', constant=True, number=True)\n",
    "k = Symbol('k', constant=True, number=True)\n",
    "lam = Symbol('lam', constant=True, number=True)\n",
    "Fs = Symbol('Fs', constant=True, number=True)\n",
    "\n",
    "# Parameters with errors\n",
    "rprs = Symbol('rprs')\n",
    "fpfs = Symbol('fpfs')\n",
    "\n",
    "# Inverted Planck functions in terms of transit depth, eclipse depth and Fs (Equation 1 of Baxter et al 2020)\n",
    "Tp = (((h*c) / (k*lam) ) * 1./\n",
    "        (log(((2.*h*c**2*np.pi*rprs**2)/\n",
    "        (lam**5*Fs*fpfs)) + 1. )))"
   ]
  },
  {
   "cell_type": "markdown",
   "metadata": {},
   "source": [
    "Propagate the equation for the brightness temperature using this simplification:  \n",
    "\n",
    "\n",
    "$s_{f}={\\sqrt {\\left({\\frac {\\partial f}{\\partial x}}\\right)^{2}s_{x}^{2}+\\left({\\frac {\\partial f}{\\partial y}}\\right)^{2}s_{y}^{2}+\\left({\\frac {\\partial f}{\\partial z}}\\right)^{2}s_{z}^{2}+\\cdots }}$  \n",
    "\n",
    "Where we are interested in the error on the eclipse depth (Fp/Fs) and also maybe the transit depth (Rp/Rs) \n",
    "\n",
    "## Differentiate $Tp$ to plug into $s_f$"
   ]
  },
  {
   "cell_type": "code",
   "execution_count": 83,
   "metadata": {},
   "outputs": [],
   "source": [
    "# Differentiate wrt eclipse depth and transit depth\n",
    "dTpdrprs = diff(Tp,rprs)\n",
    "dTpdfpfs = diff(Tp,fpfs)\n",
    "\n",
    "# Initiate symbols for the errors\n",
    "rprs_err = Symbol('rprs_err', constant=True, number=True)\n",
    "fpfs_err = Symbol('fpfs_err', constant=True, number=True)\n",
    "\n",
    "# Create the equation for the brightness temperature error\n",
    "sigmaTp = sqrt( (dTpdrprs * rprs_err)**2 + (dTpdfpfs * fpfs_err)**2)"
   ]
  },
  {
   "cell_type": "markdown",
   "metadata": {},
   "source": [
    "## Plug in the values for Hat-p-13b to calculate the error  \n",
    "Rp/Rs = 0.08389±0.00081  \n",
    "Fp/Fs = 851±107 ppm  \n",
    "lam = 3.6e-6 m  \n",
    "Fp = 7521 erg/cm^2/s/Angstrom  \n",
    "^ Fp is an output of my code when calculating brightness temperature. It involves integration of PHOENIX models over Spitzer bandpass for the stellar flux (Fs), which is then converted to Fp using the eclipse depth (Fp/Fs) and Rp/Rs and returned as an output of my code. Here I take that output and jankily convert back to Fs by diving by the eclipse depth and Rp/Rs again."
   ]
  },
  {
   "cell_type": "code",
   "execution_count": 100,
   "metadata": {},
   "outputs": [
    {
     "name": "stdout",
     "output_type": "stream",
     "text": [
      "0.97 % error on Rp/Rs\n",
      "12.00 % error on Fp/Fs\n",
      "Brightness Temperature: 1798 +/- 92 K @ 3.6um\n",
      "5.10 % error on Tb\n"
     ]
    }
   ],
   "source": [
    "print \"{:.2f} % error on Rp/Rs\".format(100*0.00081/0.08389)\n",
    "print \"{:.2f} % error on Fp/Fs\".format(100*107/851)\n",
    "\n",
    "fluxscale = (u.erg/(u.cm**2*u.s*u.Angstrom)).to(u.J/u.s/u.m**3)\n",
    "\n",
    "# Substitute in all of the values for Hatp-13b\n",
    "TpH13 = Tp.subs({h:const.h.value, c:const.c.value, k:const.k_B.value, \n",
    "                   fpfs:851e-6, # 851 ppm\n",
    "                   Fs:7520./851e-6*fluxscale*(0.08389**2), \n",
    "                   rprs:0.08389, # Rp/Rs\n",
    "                   lam:3.6e-6}) # 3.6 micron\n",
    "\n",
    "sigmaTpH13 = sigmaTp.subs({h:const.h.value, c:const.c.value, k:const.k_B.value, \n",
    "                           fpfs:851e-6, # 851 ppm\n",
    "                           Fs:7521./851e-6*fluxscale*(0.08389**2), # Fp =7520 erg/cm^2/s/Angstrom to J/s/m^3. Invert Eclipse depth and multiply by Rp/Rs^2\n",
    "                           rprs:0.08389, # Rp/Rs\n",
    "                           lam:3.6e-6, # 3.6 micron\n",
    "                           fpfs_err:107e-6, rprs_err: 0.00081}) \n",
    "\n",
    "print r\"Brightness Temperature: {:.0f} +/- {:.0f} K @ 3.6um\".format(TpH13, sigmaTpH13)\n",
    "print \"{:.2f} % error on Tb\".format(100*sigmaTpH13/TpH13)"
   ]
  },
  {
   "cell_type": "markdown",
   "metadata": {},
   "source": [
    "#### Brightness temperature error of 92 Kelvin is in agreement with the method used in Baxter et al 2020 (Tb = 1775 ± 87 K) compared to the value in Garhart et al 2020 (Tb = 1810 ± 229 K)"
   ]
  },
  {
   "cell_type": "code",
   "execution_count": null,
   "metadata": {},
   "outputs": [],
   "source": []
  },
  {
   "cell_type": "code",
   "execution_count": null,
   "metadata": {},
   "outputs": [],
   "source": []
  }
 ],
 "metadata": {
  "kernelspec": {
   "display_name": "Python 2",
   "language": "python",
   "name": "python2"
  },
  "language_info": {
   "codemirror_mode": {
    "name": "ipython",
    "version": 2
   },
   "file_extension": ".py",
   "mimetype": "text/x-python",
   "name": "python",
   "nbconvert_exporter": "python",
   "pygments_lexer": "ipython2",
   "version": "2.7.13"
  }
 },
 "nbformat": 4,
 "nbformat_minor": 2
}
